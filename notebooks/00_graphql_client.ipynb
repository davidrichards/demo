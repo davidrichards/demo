{
 "cells": [
  {
   "cell_type": "code",
   "execution_count": null,
   "metadata": {},
   "outputs": [],
   "source": [
    "# default_exp graphql.client"
   ]
  },
  {
   "cell_type": "markdown",
   "metadata": {},
   "source": [
    "# GraphQL Client\n",
    "\n",
    "> API details.\n",
    "\n",
    "This code demonstrates some simple data updating over a GraphQL service. I use Hasura to host my services because it is very easy to build a service and develop working queries.\n",
    "\n",
    "What I want are:\n",
    "\n",
    "* basic data entity models that describe a record\n",
    "* find that can find a single record\n",
    "* update to update a single record\n",
    "* create to create a single record\n",
    "* delete to delete a single record\n",
    "* upsert to find a record, create it if it's missing, or update certain fields if they are different\n",
    "* batch upsert, to upload a small CSV in one transaction"
   ]
  },
  {
   "cell_type": "code",
   "execution_count": null,
   "metadata": {},
   "outputs": [],
   "source": [
    "#hide\n",
    "from nbdev.showdoc import *"
   ]
  },
  {
   "cell_type": "code",
   "execution_count": null,
   "metadata": {},
   "outputs": [],
   "source": []
  }
 ],
 "metadata": {
  "kernelspec": {
   "display_name": "Python 3",
   "language": "python",
   "name": "python3"
  }
 },
 "nbformat": 4,
 "nbformat_minor": 2
}
