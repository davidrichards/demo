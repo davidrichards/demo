{
 "cells": [
  {
   "cell_type": "code",
   "execution_count": null,
   "metadata": {},
   "outputs": [],
   "source": [
    "#hide\n",
    "from demo.graphql.client import *"
   ]
  },
  {
   "cell_type": "markdown",
   "metadata": {},
   "source": [
    "# Demo\n",
    "\n",
    "> TBD\n",
    "\n",
    "One of the things I'm working on is how to demonstrate a working system in an easy to learn and teach environment."
   ]
  },
  {
   "cell_type": "markdown",
   "metadata": {},
   "source": [
    "## Install"
   ]
  },
  {
   "cell_type": "markdown",
   "metadata": {},
   "source": [
    "First:\n",
    "\n",
    "`git clone git@github.com:davidrichards/demo.git`\n",
    "\n",
    "I've found that Python 3.8.6 is a good choice for Python right now, with the dependencies I'm using. You may want a virtual environment just for this project:\n",
    "\n",
    "`pip3 -m venv path_to_virtual_environment`\n",
    "\n",
    "Then activate it:\n",
    "\n",
    "`source path_to_virtual_environment/bin/activate`\n",
    "\n",
    "Then go to the demo directory:\n",
    "\n",
    "`cd demo`\n",
    "\n",
    "Pull down the demo data (ensure you have an AWS CLI setup first):\n",
    "\n",
    "`dvc pull`\n",
    "\n",
    "Finally install the requirements:\n",
    "\n",
    "`pip install -r requirements.txt`"
   ]
  },
  {
   "cell_type": "markdown",
   "metadata": {},
   "source": [
    "## How to use"
   ]
  },
  {
   "cell_type": "markdown",
   "metadata": {},
   "source": [
    "You can interact with the code in Jupyter:\n",
    "\n",
    "`jupyter-notebook`\n",
    "\n",
    "Anything that works completely will be in the notebooks directory. Anything that is incomplete or a bad idea remains in the experiments directory.\n",
    "\n",
    "If you're making changes, and you'd like to extract code into libraries:\n",
    "\n",
    "`make`\n",
    "\n",
    "This:\n",
    "\n",
    "* runs all the tests\n",
    "* extracts code from the notebooks, storing them in demo\n",
    "* rebuilds the documentation"
   ]
  },
  {
   "cell_type": "markdown",
   "metadata": {},
   "source": []
  }
 ],
 "metadata": {
  "kernelspec": {
   "display_name": "Python 3",
   "language": "python",
   "name": "python3"
  }
 },
 "nbformat": 4,
 "nbformat_minor": 2
}
