{
 "cells": [
  {
   "cell_type": "code",
   "execution_count": null,
   "metadata": {},
   "outputs": [],
   "source": [
    "# default_exp graphql.utilities"
   ]
  },
  {
   "cell_type": "markdown",
   "metadata": {},
   "source": [
    "# GraphQL Utilities\n",
    "\n",
    "> API details.\n",
    "\n",
    "These are the tools I can re-use for all sorts of GraphQL interactions:\n",
    "\n",
    "* dependencies\n",
    "* functions\n",
    "* conventions\n",
    "\n",
    "Some of these will eventually make it to a more-general place, like just `utilities` instead of `graphql.utilities`."
   ]
  },
  {
   "cell_type": "code",
   "execution_count": null,
   "metadata": {},
   "outputs": [],
   "source": [
    "#hide\n",
    "from nbdev.showdoc import *"
   ]
  },
  {
   "cell_type": "markdown",
   "metadata": {},
   "source": [
    "Choosing a GraphQL client shouldn't be very important. There are [several](https://graphql.org/code/#python). I've decided to use [python-graphql-client](https://github.com/prisma-labs/python-graphql-client)."
   ]
  },
  {
   "cell_type": "code",
   "execution_count": null,
   "metadata": {},
   "outputs": [],
   "source": [
    "import inspect\n",
    "import dateutil\n",
    "from datetime import datetime\n",
    "from functools import partial\n",
    "\n",
    "from python_graphql_client import GraphqlClient\n",
    "import attr"
   ]
  },
  {
   "cell_type": "markdown",
   "metadata": {},
   "source": [
    "## Utilities\n",
    "\n",
    "### Memoize\n",
    "\n",
    "I really like this concept, but I haven't found a convenient way to do it in Python. The idea is:\n",
    "\n",
    "* run some functions only once, so it's reliable and efficient\n",
    "* lazy-run these operations, so I don't have to think as much about how the code will be run\n",
    "* separate concerns into layers, pushing details deeper\n",
    "\n",
    "### Filter Parameters\n",
    "\n",
    "This is a simple idea that makes the GraphQL variables easier to filter. It could be used in memoize, but isn't (yet)."
   ]
  },
  {
   "cell_type": "code",
   "execution_count": null,
   "metadata": {},
   "outputs": [],
   "source": [
    "def memoize(self, key, default=None):\n",
    "    hidden = f\"_{key}\"\n",
    "    if not hasattr(self, hidden):\n",
    "        if key in self.kwargs:\n",
    "            setattr(self, hidden, self.kwargs[key])\n",
    "        elif callable(default):\n",
    "            try:\n",
    "                setattr(self, hidden, default())\n",
    "            except:\n",
    "                setattr(self, hidden, default(self))\n",
    "        else:\n",
    "            setattr(self, hidden, default)\n",
    "    return getattr(self, hidden)\n",
    "\n",
    "def filter_parameters(fn, kwargs):\n",
    "    parameters = inspect.signature(fn).parameters\n",
    "    return {k:v for k, v in kwargs.items() if k in parameters}"
   ]
  },
  {
   "cell_type": "code",
   "execution_count": null,
   "metadata": {},
   "outputs": [],
   "source": [
    "def fn(a=42):\n",
    "    return a\n",
    "class Context:\n",
    "    def __init__(self, **kwargs):\n",
    "        self.kwargs = kwargs\n",
    "context = Context()\n",
    "\n",
    "assert memoize(context, 'foo', fn) == 42\n",
    "assert memoize(context, 'bar', 42) == 42\n",
    "\n",
    "kwargs = dict(a=1, b=2)\n",
    "kwargs = filter_parameters(fn, kwargs)\n",
    "assert 'b' not in kwargs\n",
    "\n",
    "del Context"
   ]
  },
  {
   "cell_type": "markdown",
   "metadata": {},
   "source": [
    "### Utilities Feedback\n",
    "\n",
    "So, this is the least I can do.\n",
    "\n",
    "**Memoize** relies on kwargs saved to a class. It sets an attribute with the value from either kwargs or a default. The default can be a function. The function can either take no parameters or take the instance. This isn't very smart. It could be expanded with **filter_parameters**, but isn't."
   ]
  },
  {
   "cell_type": "markdown",
   "metadata": {},
   "source": [
    "## Casting\n",
    "\n",
    "Sometimes I want something close to `str`, `float`, or `int`, but allowing for None values as well. These are simple but useful."
   ]
  },
  {
   "cell_type": "code",
   "execution_count": null,
   "metadata": {},
   "outputs": [],
   "source": [
    "def cast_to_non_empty_string(o):\n",
    "    assert o is not None, \"Provide a value.\"\n",
    "    o = str(o)\n",
    "    assert len(o) > 0, \"Provide a non-empty string\"\n",
    "    return o\n",
    "\n",
    "def cast_to_string(o, default=None):\n",
    "    if o is None: return default\n",
    "    return str(o)\n",
    "\n",
    "def cast_to_datetime(o, default=None):\n",
    "    if isinstance(o, datetime): return o\n",
    "    try:\n",
    "        return dateutil.parser.parse(o)\n",
    "    except:\n",
    "        return default\n",
    "    \n",
    "def cast_to_integer(o, default=0):\n",
    "    if o is None: return default\n",
    "    return int(o)\n",
    "\n",
    "cast_to_integer_or_none = partial(cast_to_integer, default=None)\n",
    "\n",
    "def cast_to_float(o, default=0.0):\n",
    "    if o is None: return default\n",
    "    return float(o)\n",
    "\n",
    "cast_to_float_or_none = partial(cast_to_float, default=None)\n",
    "\n",
    "def cast_to_time(o, default=None):\n",
    "    if o is None: return default\n",
    "    try:\n",
    "        return dateutil.parser.parse(o).time()\n",
    "    except:\n",
    "        return default"
   ]
  },
  {
   "cell_type": "code",
   "execution_count": null,
   "metadata": {},
   "outputs": [],
   "source": [
    "assert cast_to_non_empty_string('a') == 'a'\n",
    "\n",
    "assert cast_to_string(None) is None\n",
    "assert cast_to_string(1) == '1'\n",
    "\n",
    "now = datetime.today()\n",
    "assert cast_to_datetime(None) is None\n",
    "assert cast_to_datetime(str(now)).date() == now.date()\n",
    "assert cast_to_datetime('not going to work', default=now) == now\n",
    "\n",
    "assert cast_to_integer(None) == 0\n",
    "assert cast_to_integer('1') == 1\n",
    "assert cast_to_integer(None, default=None) is None\n",
    "assert cast_to_integer_or_none(None) is None\n",
    "\n",
    "assert cast_to_float(None) == 0.0\n",
    "assert cast_to_float('1') == 1.0\n",
    "assert cast_to_float(None, default=None) is None\n",
    "assert cast_to_float_or_none(None) is None\n",
    "\n",
    "assert cast_to_time(None) is None\n",
    "assert cast_to_time(str(now)) == now.time()\n",
    "assert cast_to_time('not going to work') is None"
   ]
  },
  {
   "cell_type": "markdown",
   "metadata": {},
   "source": [
    "### Casting Feedback\n",
    "\n",
    "This is pretty straightforward. It's useful when assigning attributes in an `attrs` class."
   ]
  },
  {
   "cell_type": "code",
   "execution_count": null,
   "metadata": {},
   "outputs": [],
   "source": []
  }
 ],
 "metadata": {
  "kernelspec": {
   "display_name": "Python 3",
   "language": "python",
   "name": "python3"
  }
 },
 "nbformat": 4,
 "nbformat_minor": 2
}
